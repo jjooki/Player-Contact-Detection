{
 "cells": [
  {
   "cell_type": "markdown",
   "metadata": {
    "id": "lECfQUf2NhBH"
   },
   "source": [
    "# Module Import"
   ]
  },
  {
   "cell_type": "code",
   "execution_count": null,
   "metadata": {
    "colab": {
     "base_uri": "https://localhost:8080/"
    },
    "executionInfo": {
     "elapsed": 3426,
     "status": "ok",
     "timestamp": 1675322426100,
     "user": {
      "displayName": "쭌박",
      "userId": "10395889298640262415"
     },
     "user_tz": -540
    },
    "id": "NxOYv-uZNUqW",
    "outputId": "038b2314-062d-44fc-bce6-fcae8e8aa6e6"
   },
   "outputs": [],
   "source": [
    "# from google.colab import drive\n",
    "# drive.mount('/content/drive')"
   ]
  },
  {
   "cell_type": "code",
   "execution_count": null,
   "metadata": {
    "colab": {
     "base_uri": "https://localhost:8080/"
    },
    "executionInfo": {
     "elapsed": 1701,
     "status": "ok",
     "timestamp": 1675318417373,
     "user": {
      "displayName": "쭌박",
      "userId": "10395889298640262415"
     },
     "user_tz": -540
    },
    "id": "Z2_T8VSglwky",
    "outputId": "a55257a6-ee71-4c4e-c1d3-78e521673181"
   },
   "outputs": [],
   "source": [
    "!nvidia-smi"
   ]
  },
  {
   "cell_type": "code",
   "execution_count": 1,
   "metadata": {
    "colab": {
     "base_uri": "https://localhost:8080/"
    },
    "executionInfo": {
     "elapsed": 2,
     "status": "ok",
     "timestamp": 1675322432166,
     "user": {
      "displayName": "쭌박",
      "userId": "10395889298640262415"
     },
     "user_tz": -540
    },
    "id": "uTl3ZU5gNaD2",
    "outputId": "274f30a9-aa20-4b7f-8677-508b91a2d990"
   },
   "outputs": [
    {
     "name": "stdout",
     "output_type": "stream",
     "text": [
      "/Users/john/Library/CloudStorage/GoogleDrive-piy8117982@gmail.com/내 드라이브/Colab Notebooks/kaggle/Player-Contact-Detection\n"
     ]
    }
   ],
   "source": [
    "import os, sys\n",
    "from pathlib import Path\n",
    "\n",
    "# Set up path\n",
    "if os.getcwd() == '/content':\n",
    "    %cd '/content/drive/MyDrive/Colab Notebooks/kaggle/Player-Contact-Detection/tutorial'\n",
    "    base_path = Path('__file__').resolve().parent.parent\n",
    "else:\n",
    "    base_path = Path().resolve()\n",
    "\n",
    "print(base_path)\n",
    "module_path = base_path / 'module'\n",
    "data_path = base_path / 'data'\n",
    "submission_path = base_path / 'submission'\n",
    "\n",
    "# Append system path\n",
    "sys.path.append(str(module_path))"
   ]
  },
  {
   "cell_type": "code",
   "execution_count": 2,
   "metadata": {
    "executionInfo": {
     "elapsed": 2,
     "status": "ok",
     "timestamp": 1675322432166,
     "user": {
      "displayName": "쭌박",
      "userId": "10395889298640262415"
     },
     "user_tz": -540
    },
    "id": "YZrVaJKcNbhZ"
   },
   "outputs": [],
   "source": [
    "# Import data analysis libraries\n",
    "import itertools\n",
    "import matplotlib.pyplot as plt\n",
    "import numpy as np\n",
    "import pandas as pd\n",
    "import seaborn as sns\n",
    "\n",
    "from ensemble import BinaryCalssifier\n",
    "from lightgbm.sklearn import LGBMClassifier\n",
    "from sklearn.model_selection import train_test_split, GridSearchCV\n",
    "from sklearn.metrics import matthews_corrcoef as mcc\n",
    "from sklearn.ensemble import RandomForestClassifier, VotingClassifier\n",
    "from tqdm import tqdm\n",
    "from xgboost.sklearn import XGBClassifier"
   ]
  },
  {
   "cell_type": "markdown",
   "metadata": {
    "id": "bZ8F6plnNkGk"
   },
   "source": [
    "# Load Fully-Connected train-test dataset"
   ]
  },
  {
   "cell_type": "code",
   "execution_count": 3,
   "metadata": {
    "executionInfo": {
     "elapsed": 1,
     "status": "ok",
     "timestamp": 1675322432166,
     "user": {
      "displayName": "쭌박",
      "userId": "10395889298640262415"
     },
     "user_tz": -540
    },
    "id": "iMFeNpqWNfZz"
   },
   "outputs": [],
   "source": [
    "submission = pd.read_csv(data_path / 'sample_submission.csv')\n",
    "\n",
    "def make_filename(windows: int=0, test: bool=False, ground: bool=False):\n",
    "    train_test = 'test' if test else 'train'\n",
    "    type_ = 'ground' if ground else 'player'\n",
    "\n",
    "    filename = f'{train_test}_{type_}_contact_tracking'\n",
    "\n",
    "    if windows == 0:\n",
    "        suffix = '.csv'\n",
    "    elif windows >= 1:\n",
    "        suffix = f'_{windows}.csv'\n",
    "\n",
    "    return filename + suffix\n",
    "\n",
    "def load_data(data_path, windows: int=0, ground: bool=False):\n",
    "    train_filename = make_filename(windows, test=False, ground=ground)\n",
    "    test_filename = make_filename(windows, test=True, ground=ground)\n",
    "\n",
    "    try:\n",
    "        train = pd.read_csv(data_path / train_filename)\n",
    "        test = pd.read_csv(data_path / test_filename)\n",
    "\n",
    "    except Exception as e:\n",
    "        print(\"Return basic dataset.\")\n",
    "        load_data(data_path, 0)\n",
    "        \n",
    "    train.sort_values(by=['group_id', 'step'], inplace=True)\n",
    "    train.reset_index(drop=True, inplace=True)\n",
    "    test.sort_values(by=['group_id', 'step'], inplace=True)\n",
    "    test.reset_index(drop=True, inplace=True)\n",
    "\n",
    "    return train, test"
   ]
  },
  {
   "cell_type": "markdown",
   "metadata": {
    "id": "jknH2fevNvJ-"
   },
   "source": [
    "# Imbalance Processing"
   ]
  },
  {
   "cell_type": "code",
   "execution_count": 4,
   "metadata": {
    "executionInfo": {
     "elapsed": 1,
     "status": "ok",
     "timestamp": 1675322432166,
     "user": {
      "displayName": "쭌박",
      "userId": "10395889298640262415"
     },
     "user_tz": -540
    },
    "id": "XYBKZ8ZIshQK"
   },
   "outputs": [],
   "source": [
    "def preprocessing(data):\n",
    "    temp = data.loc[data.contact == 1]\n",
    "    index = temp.index.values.tolist()\n",
    "\n",
    "    prev_i = index[0]\n",
    "    group_ids = []\n",
    "\n",
    "    for i in index:\n",
    "        if (i - prev_i) > 1:\n",
    "            sr = data.loc[prev_i,:]\n",
    "            group_id = sr.loc['group_id']\n",
    "            group_ids.append(group_id)\n",
    "        prev_i = i\n",
    "    \n",
    "    drop_cols = ['contact_id', 'group_id', 'game_play',\n",
    "                 'step', 'nfl_player_id_1', 'nfl_player_id_2']\n",
    "\n",
    "    result = data.loc[data.group_id.isin(group_ids), :]\n",
    "    result.drop(columns=drop_cols, inplace=True)\n",
    "    return result"
   ]
  },
  {
   "cell_type": "markdown",
   "metadata": {},
   "source": [
    "## RandomFroest & XGBoost & LightGBM"
   ]
  },
  {
   "cell_type": "code",
   "execution_count": 5,
   "metadata": {},
   "outputs": [],
   "source": [
    "def make_weights(n_learners: int, N: int):\n",
    "    # x+y+z = N인 음이 아닌 정수 (x, y, z) 순서쌍 만들기\n",
    "    weights = []\n",
    "\n",
    "    if n_learners == 3:\n",
    "        for i in range(N+1):\n",
    "            for j in range(N+1-i):\n",
    "                k = N-i-j\n",
    "                temp = [i/N, j/N, k/N]\n",
    "                weights.append(temp)\n",
    "\n",
    "    elif n_learners == 2:\n",
    "        for i in range(N+1):\n",
    "            j = N-i\n",
    "            temp = [i/N, j/N]\n",
    "            weights.append(temp)\n",
    "\n",
    "    return weights"
   ]
  },
  {
   "cell_type": "code",
   "execution_count": 10,
   "metadata": {
    "id": "BfwTuwhEUlkK"
   },
   "outputs": [],
   "source": [
    "def model_result(train: pd.DataFrame, test: pd.DataFrame,\n",
    "                 windows: int, save: bool=False) -> pd.DataFrame:\n",
    "    drop_cols = ['contact_id', 'group_id', 'game_play',\n",
    "                 'step', 'nfl_player_id_1', 'nfl_player_id_2']\n",
    "    target_column = 'contact'\n",
    "\n",
    "    X = train.drop(columns=[target_column])\n",
    "    y = train.contact\n",
    "    X_test = test.drop(columns=drop_cols + [target_column])\n",
    "\n",
    "    # train, validation dataset split\n",
    "    X_train, X_val, y_train, y_val = train_test_split(X, y,\n",
    "                                                      test_size=0.3,\n",
    "                                                      random_state=42)\n",
    "\n",
    "    # model initializing\n",
    "    xgb = XGBClassifier()\n",
    "    lgbm = LGBMClassifier()\n",
    "    rf = RandomForestClassifier()\n",
    "    \n",
    "    clf = VotingClassifier(estimators=[('rf', rf), ('xgb', xgb), ('lgbm', lgbm)])\n",
    "    \n",
    "    # model training\n",
    "    clf.fit(X_train, y_train)\n",
    "\n",
    "    weights = make_weights(3, 5)\n",
    "    grid_params = {'weights': weights}\n",
    "    grid_Search = GridSearchCV(param_grid=grid_params,\n",
    "                               estimator=clf,\n",
    "                               scoring=mcc,\n",
    "                               verbose=0,\n",
    "                               refit=True)\n",
    "    \n",
    "    grid_Search.fit(X_train, y_train)\n",
    "    \n",
    "    # prediction\n",
    "    y_train_pred = clf.predict(X_train)\n",
    "    y_pred = clf.predict(X_val)\n",
    "\n",
    "    # scoring\n",
    "#     score_train = clf.score(y_train, y_train_pred)\n",
    "#     score_val = clf.score(y_val, y_pred)\n",
    "#     print(\"Train %s score is %.4f\" % (clf.metric_, score_train))\n",
    "#     print(\"Validation %s score is %.4f\" % (clf.metric_, score_val))\n",
    "    score_train = mcc(y_train, y_train_pred)\n",
    "    score_val = mcc(y_val, y_pred)\n",
    "    print(\"Train mcc score is %.4f\" % (score_train))\n",
    "    print(\"Validation mcc score is %.4f\" % (score_val))\n",
    "\n",
    "    y_test = clf.predict(X_test)\n",
    "\n",
    "    test.loc[:, target_column] = y_test\n",
    "    return test.loc[:, ['contact_id', target_column]], score_val\n",
    "\n",
    "def save_submission(submission, windows,\n",
    "                    test_player, test_ground):\n",
    "    submission = pd.merge(submission.loc[:, 'contact_id'],\n",
    "                          pd.concat([test_player, test_ground]),\n",
    "                          on='contact_id', how='left')\n",
    "    num = 1\n",
    "    try:\n",
    "        for filename in os.listdir(submission_path):\n",
    "            if filename.contains(f'submission_win{windows}'):\n",
    "                num += 1\n",
    "    except FileNotFoundError:\n",
    "        num = 1\n",
    "\n",
    "    filename = f'submission_win{windows}_ver{num}.csv'\n",
    "    submission.to_csv(base_path / 'submission' / filename, index=False)"
   ]
  },
  {
   "cell_type": "code",
   "execution_count": null,
   "metadata": {
    "colab": {
     "background_save": true,
     "base_uri": "https://localhost:8080/",
     "output_embedded_package_id": "1GBDeRIwpyltasCE0lJUf50Tefe_-l25w"
    },
    "id": "cTxrI2HcUN5B",
    "outputId": "ebdbe095-4bdc-4111-a992-28a3e689d12d"
   },
   "outputs": [
    {
     "name": "stderr",
     "output_type": "stream",
     "text": [
      "\r",
      "  0%|                                                  | 0/11 [00:00<?, ?it/s]"
     ]
    },
    {
     "name": "stdout",
     "output_type": "stream",
     "text": [
      "#----------------- Windows: 0 -------------------#\n",
      "#------ Model: contact between players -----#\n",
      "Train mcc score is 0.7927\n",
      "Validation mcc score is 0.7262\n",
      "\n",
      "#------ Model: contact player-ground -------#\n"
     ]
    },
    {
     "name": "stderr",
     "output_type": "stream",
     "text": [
      "\r",
      "  9%|███▏                               | 1/11 [1:24:23<14:03:55, 5063.54s/it]"
     ]
    },
    {
     "name": "stdout",
     "output_type": "stream",
     "text": [
      "Train mcc score is 0.8898\n",
      "Validation mcc score is 0.7527\n",
      "#-------------------------------------------------#\n",
      "\n",
      "#----------------- Windows: 1 -------------------#\n",
      "#------ Model: contact between players -----#\n",
      "Train mcc score is 0.7929\n",
      "Validation mcc score is 0.7263\n",
      "\n",
      "#------ Model: contact player-ground -------#\n"
     ]
    },
    {
     "name": "stderr",
     "output_type": "stream",
     "text": [
      "\r",
      " 18%|██████▎                            | 2/11 [2:59:02<13:33:48, 5425.42s/it]"
     ]
    },
    {
     "name": "stdout",
     "output_type": "stream",
     "text": [
      "Train mcc score is 0.8898\n",
      "Validation mcc score is 0.7537\n",
      "#-------------------------------------------------#\n",
      "\n",
      "#----------------- Windows: 2 -------------------#\n",
      "#------ Model: contact between players -----#\n",
      "Train mcc score is 0.7925\n",
      "Validation mcc score is 0.7275\n",
      "\n",
      "#------ Model: contact player-ground -------#\n"
     ]
    },
    {
     "name": "stderr",
     "output_type": "stream",
     "text": [
      "\r",
      " 27%|█████████▌                         | 3/11 [4:38:37<12:36:50, 5676.34s/it]"
     ]
    },
    {
     "name": "stdout",
     "output_type": "stream",
     "text": [
      "Train mcc score is 0.8898\n",
      "Validation mcc score is 0.7528\n",
      "#-------------------------------------------------#\n",
      "\n",
      "#----------------- Windows: 3 -------------------#\n",
      "#------ Model: contact between players -----#\n",
      "Train mcc score is 0.7913\n",
      "Validation mcc score is 0.7267\n",
      "\n",
      "#------ Model: contact player-ground -------#\n"
     ]
    },
    {
     "name": "stderr",
     "output_type": "stream",
     "text": [
      "\r",
      " 36%|████████████▋                      | 4/11 [6:15:33<11:08:42, 5731.72s/it]"
     ]
    },
    {
     "name": "stdout",
     "output_type": "stream",
     "text": [
      "Train mcc score is 0.8898\n",
      "Validation mcc score is 0.7526\n",
      "#-------------------------------------------------#\n",
      "\n",
      "#----------------- Windows: 4 -------------------#\n",
      "#------ Model: contact between players -----#\n"
     ]
    }
   ],
   "source": [
    "score_ls = []\n",
    "\n",
    "for windows in tqdm(range(11)):\n",
    "    train_player, test_player = load_data(data_path, windows, ground=False)\n",
    "    train_ground, test_ground = load_data(data_path, windows, ground=True)\n",
    "\n",
    "    train_player_balanced = preprocessing(train_player)\n",
    "    train_ground_balanced = preprocessing(train_ground)\n",
    "\n",
    "    print(f'#----------------- Windows: {str(windows): <2s}-------------------#')\n",
    "    print('#------ Model: contact between players -----#')\n",
    "    player, score1 = model_result(train_player_balanced, test_player, windows)\n",
    "    print()\n",
    "    print('#------ Model: contact player-ground -------#')\n",
    "    ground, score2 = model_result(train_ground_balanced, test_ground, windows)\n",
    "    print('#-------------------------------------------------#')\n",
    "    print()\n",
    "    score_ls.append((score1, score2))\n",
    "#     save_submission(submission, windows, player, ground)"
   ]
  },
  {
   "cell_type": "code",
   "execution_count": null,
   "metadata": {},
   "outputs": [],
   "source": [
    "scores1 = [score[0] for score in score_ls]\n",
    "scores2 = [score[1] for score in score_ls]\n",
    "\n",
    "print()"
   ]
  },
  {
   "cell_type": "code",
   "execution_count": null,
   "metadata": {
    "id": "hQ1vyIQf_-dl"
   },
   "outputs": [],
   "source": [
    "window = 0\n",
    "train_player, test_player = load_data(data_path, windows, ground=False)\n",
    "train_ground, test_ground = load_data(data_path, windows, ground=True)\n",
    "\n",
    "col_replace(train_player)\n",
    "col_replace(test_player)\n",
    "col_replace(train_ground)\n",
    "col_replace(test_ground)\n",
    "\n",
    "train_player_balanced = preprocessing(train_player)\n",
    "train_ground_balanced = preprocessing(train_ground)\n",
    "\n",
    "print(f'#----------------- Windows: {str(windows): <2s}-------------------#')\n",
    "print('#------ Model: contact between players -----#')\n",
    "player, score1 = model_result(train_player_balanced, test_player, windows)\n",
    "print()\n",
    "print('#------ Model: contact player-ground -------#')\n",
    "ground, score2 = model_result(train_ground_balanced, test_ground, windows)\n",
    "print('#-------------------------------------------------#')\n",
    "print()\n",
    "score_ls\n",
    "save_submission(submission, windows, player, ground)"
   ]
  },
  {
   "cell_type": "code",
   "execution_count": 10,
   "metadata": {},
   "outputs": [
    {
     "name": "stdout",
     "output_type": "stream",
     "text": [
      "False\n"
     ]
    }
   ],
   "source": [
    "from torch import cuda\n",
    "print(cuda.is_available())"
   ]
  },
  {
   "cell_type": "code",
   "execution_count": null,
   "metadata": {},
   "outputs": [],
   "source": []
  }
 ],
 "metadata": {
  "accelerator": "GPU",
  "colab": {
   "authorship_tag": "ABX9TyMqMEjOCr2sR+b/7uA5N0UN",
   "provenance": []
  },
  "gpuClass": "standard",
  "kernelspec": {
   "display_name": "Python 3 (ipykernel)",
   "language": "python",
   "name": "python3"
  },
  "language_info": {
   "codemirror_mode": {
    "name": "ipython",
    "version": 3
   },
   "file_extension": ".py",
   "mimetype": "text/x-python",
   "name": "python",
   "nbconvert_exporter": "python",
   "pygments_lexer": "ipython3",
   "version": "3.9.12"
  },
  "vscode": {
   "interpreter": {
    "hash": "8de9cf2a41a14b86f4b960b38cf0ff1f8f1d59d49c1bd43f16bb3122cea8ce1e"
   }
  }
 },
 "nbformat": 4,
 "nbformat_minor": 1
}
